{
 "cells": [
  {
   "cell_type": "code",
   "execution_count": 1,
   "metadata": {},
   "outputs": [],
   "source": [
    "import pandas as pd"
   ]
  },
  {
   "cell_type": "code",
   "execution_count": 4,
   "metadata": {},
   "outputs": [],
   "source": [
    "input_file = 'cochrane_test.csv'\n",
    "label_file = 'test-targets.csv'"
   ]
  },
  {
   "cell_type": "code",
   "execution_count": 5,
   "metadata": {},
   "outputs": [],
   "source": [
    "df_i = pd.read_csv(input_file)\n",
    "df_l = pd.read_csv(label_file)\n"
   ]
  },
  {
   "cell_type": "code",
   "execution_count": 6,
   "metadata": {},
   "outputs": [
    {
     "data": {
      "text/html": [
       "<div>\n",
       "<style scoped>\n",
       "    .dataframe tbody tr th:only-of-type {\n",
       "        vertical-align: middle;\n",
       "    }\n",
       "\n",
       "    .dataframe tbody tr th {\n",
       "        vertical-align: top;\n",
       "    }\n",
       "\n",
       "    .dataframe thead th {\n",
       "        text-align: right;\n",
       "    }\n",
       "</style>\n",
       "<table border=\"1\" class=\"dataframe\">\n",
       "  <thead>\n",
       "    <tr style=\"text-align: right;\">\n",
       "      <th></th>\n",
       "      <th>ReviewID</th>\n",
       "      <th>summary</th>\n",
       "      <th>document</th>\n",
       "    </tr>\n",
       "  </thead>\n",
       "  <tbody>\n",
       "    <tr>\n",
       "      <th>0</th>\n",
       "      <td>CD000024</td>\n",
       "      <td>NaN</td>\n",
       "      <td>Prophylaxis of deep venous thrombosis with a l...</td>\n",
       "    </tr>\n",
       "    <tr>\n",
       "      <th>1</th>\n",
       "      <td>CD000074</td>\n",
       "      <td>NaN</td>\n",
       "      <td>A blinded, randomized, placebo-controlled tria...</td>\n",
       "    </tr>\n",
       "    <tr>\n",
       "      <th>2</th>\n",
       "      <td>CD000116</td>\n",
       "      <td>NaN</td>\n",
       "      <td>Cardiotocography only versus cardiotocography ...</td>\n",
       "    </tr>\n",
       "    <tr>\n",
       "      <th>3</th>\n",
       "      <td>CD000123</td>\n",
       "      <td>NaN</td>\n",
       "      <td>Cholesterol reduction with atorvastatin improv...</td>\n",
       "    </tr>\n",
       "    <tr>\n",
       "      <th>4</th>\n",
       "      <td>CD000143</td>\n",
       "      <td>NaN</td>\n",
       "      <td>Does continuous positive airway pressure (CPAP...</td>\n",
       "    </tr>\n",
       "  </tbody>\n",
       "</table>\n",
       "</div>"
      ],
      "text/plain": [
       "   ReviewID  summary                                           document\n",
       "0  CD000024      NaN  Prophylaxis of deep venous thrombosis with a l...\n",
       "1  CD000074      NaN  A blinded, randomized, placebo-controlled tria...\n",
       "2  CD000116      NaN  Cardiotocography only versus cardiotocography ...\n",
       "3  CD000123      NaN  Cholesterol reduction with atorvastatin improv...\n",
       "4  CD000143      NaN  Does continuous positive airway pressure (CPAP..."
      ]
     },
     "execution_count": 6,
     "metadata": {},
     "output_type": "execute_result"
    }
   ],
   "source": [
    "df_i.head()"
   ]
  },
  {
   "cell_type": "code",
   "execution_count": 7,
   "metadata": {},
   "outputs": [
    {
     "data": {
      "text/html": [
       "<div>\n",
       "<style scoped>\n",
       "    .dataframe tbody tr th:only-of-type {\n",
       "        vertical-align: middle;\n",
       "    }\n",
       "\n",
       "    .dataframe tbody tr th {\n",
       "        vertical-align: top;\n",
       "    }\n",
       "\n",
       "    .dataframe thead th {\n",
       "        text-align: right;\n",
       "    }\n",
       "</style>\n",
       "<table border=\"1\" class=\"dataframe\">\n",
       "  <thead>\n",
       "    <tr style=\"text-align: right;\">\n",
       "      <th></th>\n",
       "      <th>Unnamed: 0</th>\n",
       "      <th>ReviewID</th>\n",
       "      <th>Target</th>\n",
       "    </tr>\n",
       "  </thead>\n",
       "  <tbody>\n",
       "    <tr>\n",
       "      <th>0</th>\n",
       "      <td>0</td>\n",
       "      <td>CD000220</td>\n",
       "      <td>Metronidazole, given as a single dose, is like...</td>\n",
       "    </tr>\n",
       "    <tr>\n",
       "      <th>1</th>\n",
       "      <td>1</td>\n",
       "      <td>CD008120</td>\n",
       "      <td>We identified eligible trials on quetiapine, r...</td>\n",
       "    </tr>\n",
       "    <tr>\n",
       "      <th>2</th>\n",
       "      <td>2</td>\n",
       "      <td>CD002968</td>\n",
       "      <td>The meta-analysis shows that exercise signific...</td>\n",
       "    </tr>\n",
       "    <tr>\n",
       "      <th>3</th>\n",
       "      <td>3</td>\n",
       "      <td>CD008472</td>\n",
       "      <td>Based on current evidence from small pilot tri...</td>\n",
       "    </tr>\n",
       "    <tr>\n",
       "      <th>4</th>\n",
       "      <td>4</td>\n",
       "      <td>CD006373</td>\n",
       "      <td>Evidence is available for the effectiveness of...</td>\n",
       "    </tr>\n",
       "  </tbody>\n",
       "</table>\n",
       "</div>"
      ],
      "text/plain": [
       "   Unnamed: 0  ReviewID                                             Target\n",
       "0           0  CD000220  Metronidazole, given as a single dose, is like...\n",
       "1           1  CD008120  We identified eligible trials on quetiapine, r...\n",
       "2           2  CD002968  The meta-analysis shows that exercise signific...\n",
       "3           3  CD008472  Based on current evidence from small pilot tri...\n",
       "4           4  CD006373  Evidence is available for the effectiveness of..."
      ]
     },
     "execution_count": 7,
     "metadata": {},
     "output_type": "execute_result"
    }
   ],
   "source": [
    "df_l.head()"
   ]
  },
  {
   "cell_type": "code",
   "execution_count": 27,
   "metadata": {},
   "outputs": [],
   "source": [
    "df_merge = pd.concat([df_i.set_index('ReviewID'),df_l.set_index('ReviewID')], axis=1, join='inner').reset_index()\n"
   ]
  },
  {
   "cell_type": "code",
   "execution_count": 28,
   "metadata": {},
   "outputs": [],
   "source": [
    "df_merge = df_merge.drop(columns=['summary','Unnamed: 0'])"
   ]
  },
  {
   "cell_type": "code",
   "execution_count": 29,
   "metadata": {},
   "outputs": [],
   "source": [
    "df_merge.rename(columns = {'Target':'summary'}, inplace = True)"
   ]
  },
  {
   "cell_type": "code",
   "execution_count": 30,
   "metadata": {},
   "outputs": [
    {
     "data": {
      "text/html": [
       "<div>\n",
       "<style scoped>\n",
       "    .dataframe tbody tr th:only-of-type {\n",
       "        vertical-align: middle;\n",
       "    }\n",
       "\n",
       "    .dataframe tbody tr th {\n",
       "        vertical-align: top;\n",
       "    }\n",
       "\n",
       "    .dataframe thead th {\n",
       "        text-align: right;\n",
       "    }\n",
       "</style>\n",
       "<table border=\"1\" class=\"dataframe\">\n",
       "  <thead>\n",
       "    <tr style=\"text-align: right;\">\n",
       "      <th></th>\n",
       "      <th>ReviewID</th>\n",
       "      <th>document</th>\n",
       "      <th>summary</th>\n",
       "    </tr>\n",
       "  </thead>\n",
       "  <tbody>\n",
       "    <tr>\n",
       "      <th>0</th>\n",
       "      <td>CD000024</td>\n",
       "      <td>Prophylaxis of deep venous thrombosis with a l...</td>\n",
       "      <td>Since the last version of the review, neither ...</td>\n",
       "    </tr>\n",
       "    <tr>\n",
       "      <th>1</th>\n",
       "      <td>CD000074</td>\n",
       "      <td>A blinded, randomized, placebo-controlled tria...</td>\n",
       "      <td>Although intravenous doxapram might reduce apn...</td>\n",
       "    </tr>\n",
       "    <tr>\n",
       "      <th>2</th>\n",
       "      <td>CD000116</td>\n",
       "      <td>Cardiotocography only versus cardiotocography ...</td>\n",
       "      <td>These findings provide some modest support for...</td>\n",
       "    </tr>\n",
       "    <tr>\n",
       "      <th>3</th>\n",
       "      <td>CD000123</td>\n",
       "      <td>Cholesterol reduction with atorvastatin improv...</td>\n",
       "      <td>Lipid-lowering therapy is effective in reducin...</td>\n",
       "    </tr>\n",
       "    <tr>\n",
       "      <th>4</th>\n",
       "      <td>CD000143</td>\n",
       "      <td>Does continuous positive airway pressure (CPAP...</td>\n",
       "      <td>Implications for practice: nasal CPAP is effec...</td>\n",
       "    </tr>\n",
       "    <tr>\n",
       "      <th>...</th>\n",
       "      <td>...</td>\n",
       "      <td>...</td>\n",
       "      <td>...</td>\n",
       "    </tr>\n",
       "    <tr>\n",
       "      <th>465</th>\n",
       "      <td>CD010256</td>\n",
       "      <td>Comparison of intravenous aminophylline and sa...</td>\n",
       "      <td>In the included RCTs there was no consistent e...</td>\n",
       "    </tr>\n",
       "    <tr>\n",
       "      <th>466</th>\n",
       "      <td>CD010257</td>\n",
       "      <td>Efficacy of antibiotic therapy for acute exace...</td>\n",
       "      <td>Antibiotics for COPD exacerbations showed larg...</td>\n",
       "    </tr>\n",
       "    <tr>\n",
       "      <th>467</th>\n",
       "      <td>CD010292</td>\n",
       "      <td>A double-blind, multicenter trial comparing du...</td>\n",
       "      <td>The SNRIs duloxetine and milnacipran provided ...</td>\n",
       "    </tr>\n",
       "    <tr>\n",
       "      <th>468</th>\n",
       "      <td>CD010610</td>\n",
       "      <td>Cessation versus continuation of 6-month migra...</td>\n",
       "      <td>Meta-analysis demonstrates that topiramate in ...</td>\n",
       "    </tr>\n",
       "    <tr>\n",
       "      <th>469</th>\n",
       "      <td>CD010611</td>\n",
       "      <td>A randomized trial of divalproex sodium extend...</td>\n",
       "      <td>Valproate is effective in reducing headache fr...</td>\n",
       "    </tr>\n",
       "  </tbody>\n",
       "</table>\n",
       "<p>470 rows × 3 columns</p>\n",
       "</div>"
      ],
      "text/plain": [
       "     ReviewID                                           document  \\\n",
       "0    CD000024  Prophylaxis of deep venous thrombosis with a l...   \n",
       "1    CD000074  A blinded, randomized, placebo-controlled tria...   \n",
       "2    CD000116  Cardiotocography only versus cardiotocography ...   \n",
       "3    CD000123  Cholesterol reduction with atorvastatin improv...   \n",
       "4    CD000143  Does continuous positive airway pressure (CPAP...   \n",
       "..        ...                                                ...   \n",
       "465  CD010256  Comparison of intravenous aminophylline and sa...   \n",
       "466  CD010257  Efficacy of antibiotic therapy for acute exace...   \n",
       "467  CD010292  A double-blind, multicenter trial comparing du...   \n",
       "468  CD010610  Cessation versus continuation of 6-month migra...   \n",
       "469  CD010611  A randomized trial of divalproex sodium extend...   \n",
       "\n",
       "                                               summary  \n",
       "0    Since the last version of the review, neither ...  \n",
       "1    Although intravenous doxapram might reduce apn...  \n",
       "2    These findings provide some modest support for...  \n",
       "3    Lipid-lowering therapy is effective in reducin...  \n",
       "4    Implications for practice: nasal CPAP is effec...  \n",
       "..                                                 ...  \n",
       "465  In the included RCTs there was no consistent e...  \n",
       "466  Antibiotics for COPD exacerbations showed larg...  \n",
       "467  The SNRIs duloxetine and milnacipran provided ...  \n",
       "468  Meta-analysis demonstrates that topiramate in ...  \n",
       "469  Valproate is effective in reducing headache fr...  \n",
       "\n",
       "[470 rows x 3 columns]"
      ]
     },
     "execution_count": 30,
     "metadata": {},
     "output_type": "execute_result"
    }
   ],
   "source": [
    "df_merge"
   ]
  },
  {
   "cell_type": "markdown",
   "metadata": {},
   "source": []
  },
  {
   "cell_type": "code",
   "execution_count": 31,
   "metadata": {},
   "outputs": [],
   "source": [
    "df_merge.to_csv(\"cochrane_test.csv\",index = False)"
   ]
  },
  {
   "cell_type": "code",
   "execution_count": null,
   "metadata": {},
   "outputs": [],
   "source": []
  }
 ],
 "metadata": {
  "interpreter": {
   "hash": "fef818daea53e23aa2d0d4c683f9bc69526e3bf739930be54aea8fef144a19bd"
  },
  "kernelspec": {
   "display_name": "Python 3.8.12 ('nlp')",
   "language": "python",
   "name": "python3"
  },
  "language_info": {
   "codemirror_mode": {
    "name": "ipython",
    "version": 3
   },
   "file_extension": ".py",
   "mimetype": "text/x-python",
   "name": "python",
   "nbconvert_exporter": "python",
   "pygments_lexer": "ipython3",
   "version": "3.8.12"
  },
  "orig_nbformat": 4
 },
 "nbformat": 4,
 "nbformat_minor": 2
}
